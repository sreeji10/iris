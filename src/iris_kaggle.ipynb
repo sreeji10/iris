{
  "cells": [
    {
      "metadata": {
        "trusted": true,
        "_uuid": "8d8eb77535e541b78bf83f1d7e98287d671a4f99"
      },
      "cell_type": "code",
      "source": "#importing basic libraires\nimport numpy as np\nimport pandas as pd\nimport matplotlib.pyplot as plt\nimport warnings\nwarnings.filterwarnings('ignore')\n%matplotlib inline",
      "execution_count": 1,
      "outputs": []
    },
    {
      "metadata": {
        "trusted": true,
        "_uuid": "571692fa1662252960e610bdf3e2119d8eea6c17"
      },
      "cell_type": "code",
      "source": "#Load Iris dataset\ndf = pd.read_csv(\"../input/Iris.csv\")",
      "execution_count": 2,
      "outputs": []
    },
    {
      "metadata": {
        "trusted": true,
        "_uuid": "792b08b37636813e53a11c4c9e6b4452907166b0"
      },
      "cell_type": "code",
      "source": "df.head()",
      "execution_count": 3,
      "outputs": [
        {
          "output_type": "execute_result",
          "execution_count": 3,
          "data": {
            "text/plain": "   Id  SepalLengthCm     ...       PetalWidthCm      Species\n0   1            5.1     ...                0.2  Iris-setosa\n1   2            4.9     ...                0.2  Iris-setosa\n2   3            4.7     ...                0.2  Iris-setosa\n3   4            4.6     ...                0.2  Iris-setosa\n4   5            5.0     ...                0.2  Iris-setosa\n\n[5 rows x 6 columns]",
            "text/html": "<div>\n<style scoped>\n    .dataframe tbody tr th:only-of-type {\n        vertical-align: middle;\n    }\n\n    .dataframe tbody tr th {\n        vertical-align: top;\n    }\n\n    .dataframe thead th {\n        text-align: right;\n    }\n</style>\n<table border=\"1\" class=\"dataframe\">\n  <thead>\n    <tr style=\"text-align: right;\">\n      <th></th>\n      <th>Id</th>\n      <th>SepalLengthCm</th>\n      <th>SepalWidthCm</th>\n      <th>PetalLengthCm</th>\n      <th>PetalWidthCm</th>\n      <th>Species</th>\n    </tr>\n  </thead>\n  <tbody>\n    <tr>\n      <th>0</th>\n      <td>1</td>\n      <td>5.1</td>\n      <td>3.5</td>\n      <td>1.4</td>\n      <td>0.2</td>\n      <td>Iris-setosa</td>\n    </tr>\n    <tr>\n      <th>1</th>\n      <td>2</td>\n      <td>4.9</td>\n      <td>3.0</td>\n      <td>1.4</td>\n      <td>0.2</td>\n      <td>Iris-setosa</td>\n    </tr>\n    <tr>\n      <th>2</th>\n      <td>3</td>\n      <td>4.7</td>\n      <td>3.2</td>\n      <td>1.3</td>\n      <td>0.2</td>\n      <td>Iris-setosa</td>\n    </tr>\n    <tr>\n      <th>3</th>\n      <td>4</td>\n      <td>4.6</td>\n      <td>3.1</td>\n      <td>1.5</td>\n      <td>0.2</td>\n      <td>Iris-setosa</td>\n    </tr>\n    <tr>\n      <th>4</th>\n      <td>5</td>\n      <td>5.0</td>\n      <td>3.6</td>\n      <td>1.4</td>\n      <td>0.2</td>\n      <td>Iris-setosa</td>\n    </tr>\n  </tbody>\n</table>\n</div>"
          },
          "metadata": {}
        }
      ]
    },
    {
      "metadata": {
        "trusted": true,
        "_uuid": "a2f49e42bdada5ee99824cb8bd1e6745e39d4390"
      },
      "cell_type": "code",
      "source": "df.describe()",
      "execution_count": 4,
      "outputs": [
        {
          "output_type": "execute_result",
          "execution_count": 4,
          "data": {
            "text/plain": "               Id  SepalLengthCm      ...       PetalLengthCm  PetalWidthCm\ncount  150.000000     150.000000      ...          150.000000    150.000000\nmean    75.500000       5.843333      ...            3.758667      1.198667\nstd     43.445368       0.828066      ...            1.764420      0.763161\nmin      1.000000       4.300000      ...            1.000000      0.100000\n25%     38.250000       5.100000      ...            1.600000      0.300000\n50%     75.500000       5.800000      ...            4.350000      1.300000\n75%    112.750000       6.400000      ...            5.100000      1.800000\nmax    150.000000       7.900000      ...            6.900000      2.500000\n\n[8 rows x 5 columns]",
            "text/html": "<div>\n<style scoped>\n    .dataframe tbody tr th:only-of-type {\n        vertical-align: middle;\n    }\n\n    .dataframe tbody tr th {\n        vertical-align: top;\n    }\n\n    .dataframe thead th {\n        text-align: right;\n    }\n</style>\n<table border=\"1\" class=\"dataframe\">\n  <thead>\n    <tr style=\"text-align: right;\">\n      <th></th>\n      <th>Id</th>\n      <th>SepalLengthCm</th>\n      <th>SepalWidthCm</th>\n      <th>PetalLengthCm</th>\n      <th>PetalWidthCm</th>\n    </tr>\n  </thead>\n  <tbody>\n    <tr>\n      <th>count</th>\n      <td>150.000000</td>\n      <td>150.000000</td>\n      <td>150.000000</td>\n      <td>150.000000</td>\n      <td>150.000000</td>\n    </tr>\n    <tr>\n      <th>mean</th>\n      <td>75.500000</td>\n      <td>5.843333</td>\n      <td>3.054000</td>\n      <td>3.758667</td>\n      <td>1.198667</td>\n    </tr>\n    <tr>\n      <th>std</th>\n      <td>43.445368</td>\n      <td>0.828066</td>\n      <td>0.433594</td>\n      <td>1.764420</td>\n      <td>0.763161</td>\n    </tr>\n    <tr>\n      <th>min</th>\n      <td>1.000000</td>\n      <td>4.300000</td>\n      <td>2.000000</td>\n      <td>1.000000</td>\n      <td>0.100000</td>\n    </tr>\n    <tr>\n      <th>25%</th>\n      <td>38.250000</td>\n      <td>5.100000</td>\n      <td>2.800000</td>\n      <td>1.600000</td>\n      <td>0.300000</td>\n    </tr>\n    <tr>\n      <th>50%</th>\n      <td>75.500000</td>\n      <td>5.800000</td>\n      <td>3.000000</td>\n      <td>4.350000</td>\n      <td>1.300000</td>\n    </tr>\n    <tr>\n      <th>75%</th>\n      <td>112.750000</td>\n      <td>6.400000</td>\n      <td>3.300000</td>\n      <td>5.100000</td>\n      <td>1.800000</td>\n    </tr>\n    <tr>\n      <th>max</th>\n      <td>150.000000</td>\n      <td>7.900000</td>\n      <td>4.400000</td>\n      <td>6.900000</td>\n      <td>2.500000</td>\n    </tr>\n  </tbody>\n</table>\n</div>"
          },
          "metadata": {}
        }
      ]
    },
    {
      "metadata": {
        "trusted": true,
        "_uuid": "da28787d713fc5a39407219b264e670842a5e472"
      },
      "cell_type": "code",
      "source": "df.info()",
      "execution_count": 5,
      "outputs": [
        {
          "output_type": "stream",
          "text": "<class 'pandas.core.frame.DataFrame'>\nRangeIndex: 150 entries, 0 to 149\nData columns (total 6 columns):\nId               150 non-null int64\nSepalLengthCm    150 non-null float64\nSepalWidthCm     150 non-null float64\nPetalLengthCm    150 non-null float64\nPetalWidthCm     150 non-null float64\nSpecies          150 non-null object\ndtypes: float64(4), int64(1), object(1)\nmemory usage: 7.1+ KB\n",
          "name": "stdout"
        }
      ]
    },
    {
      "metadata": {
        "trusted": true,
        "_uuid": "b5d73e143dfefd424aa6b144ec764a421980f0de"
      },
      "cell_type": "code",
      "source": "df.isna().any()",
      "execution_count": 6,
      "outputs": [
        {
          "output_type": "execute_result",
          "execution_count": 6,
          "data": {
            "text/plain": "Id               False\nSepalLengthCm    False\nSepalWidthCm     False\nPetalLengthCm    False\nPetalWidthCm     False\nSpecies          False\ndtype: bool"
          },
          "metadata": {}
        }
      ]
    },
    {
      "metadata": {
        "_uuid": "6bf9936e836b52cf6245c81547cac62d3e44de41"
      },
      "cell_type": "markdown",
      "source": "**Dataset Cleanup for exploratory analysis**"
    },
    {
      "metadata": {
        "scrolled": true,
        "trusted": true,
        "_uuid": "073a483ea11ca83f1f42ed979affbf8fbed83a88"
      },
      "cell_type": "code",
      "source": "#Removing the column \"Id\" as its not necessary for analysis or modeling\ndf.drop('Id',axis=1, inplace=True)",
      "execution_count": 7,
      "outputs": []
    },
    {
      "metadata": {
        "trusted": true,
        "_uuid": "4a956ec149337eca5a06b8840f4c432355ead848"
      },
      "cell_type": "code",
      "source": "df.head()",
      "execution_count": 8,
      "outputs": [
        {
          "output_type": "execute_result",
          "execution_count": 8,
          "data": {
            "text/plain": "   SepalLengthCm  SepalWidthCm     ...       PetalWidthCm      Species\n0            5.1           3.5     ...                0.2  Iris-setosa\n1            4.9           3.0     ...                0.2  Iris-setosa\n2            4.7           3.2     ...                0.2  Iris-setosa\n3            4.6           3.1     ...                0.2  Iris-setosa\n4            5.0           3.6     ...                0.2  Iris-setosa\n\n[5 rows x 5 columns]",
            "text/html": "<div>\n<style scoped>\n    .dataframe tbody tr th:only-of-type {\n        vertical-align: middle;\n    }\n\n    .dataframe tbody tr th {\n        vertical-align: top;\n    }\n\n    .dataframe thead th {\n        text-align: right;\n    }\n</style>\n<table border=\"1\" class=\"dataframe\">\n  <thead>\n    <tr style=\"text-align: right;\">\n      <th></th>\n      <th>SepalLengthCm</th>\n      <th>SepalWidthCm</th>\n      <th>PetalLengthCm</th>\n      <th>PetalWidthCm</th>\n      <th>Species</th>\n    </tr>\n  </thead>\n  <tbody>\n    <tr>\n      <th>0</th>\n      <td>5.1</td>\n      <td>3.5</td>\n      <td>1.4</td>\n      <td>0.2</td>\n      <td>Iris-setosa</td>\n    </tr>\n    <tr>\n      <th>1</th>\n      <td>4.9</td>\n      <td>3.0</td>\n      <td>1.4</td>\n      <td>0.2</td>\n      <td>Iris-setosa</td>\n    </tr>\n    <tr>\n      <th>2</th>\n      <td>4.7</td>\n      <td>3.2</td>\n      <td>1.3</td>\n      <td>0.2</td>\n      <td>Iris-setosa</td>\n    </tr>\n    <tr>\n      <th>3</th>\n      <td>4.6</td>\n      <td>3.1</td>\n      <td>1.5</td>\n      <td>0.2</td>\n      <td>Iris-setosa</td>\n    </tr>\n    <tr>\n      <th>4</th>\n      <td>5.0</td>\n      <td>3.6</td>\n      <td>1.4</td>\n      <td>0.2</td>\n      <td>Iris-setosa</td>\n    </tr>\n  </tbody>\n</table>\n</div>"
          },
          "metadata": {}
        }
      ]
    },
    {
      "metadata": {
        "trusted": true,
        "_uuid": "b94efa40ec4bd48d51e18cc40d9c6d8c161dcf2b"
      },
      "cell_type": "code",
      "source": "df.plot.bar()",
      "execution_count": 9,
      "outputs": [
        {
          "output_type": "execute_result",
          "execution_count": 9,
          "data": {
            "text/plain": "<matplotlib.axes._subplots.AxesSubplot at 0x7f02fd5e4da0>"
          },
          "metadata": {}
        },
        {
          "output_type": "display_data",
          "data": {
            "text/plain": "<Figure size 432x288 with 1 Axes>",
            "image/png": "[encoded data removed]"
          },
          "metadata": {}
        }
      ]
    },
    {
      "metadata": {
        "trusted": true,
        "_uuid": "4b1b5ef11e55094f81a144a369fe06e52f7bac06"
      },
      "cell_type": "code",
      "source": "df.plot.hist()",
      "execution_count": 10,
      "outputs": [
        {
          "output_type": "execute_result",
          "execution_count": 10,
          "data": {
            "text/plain": "<matplotlib.axes._subplots.AxesSubplot at 0x7f02fd4b7f98>"
          },
          "metadata": {}
        },
        {
          "output_type": "display_data",
          "data": {
            "text/plain": "<Figure size 432x288 with 1 Axes>",
            "image/png": "[encoded data removed]"
          },
          "metadata": {}
        }
      ]
    },
    {
      "metadata": {
        "_uuid": "d555484133e7fbde1e6e6bbfd15e6ccbb28f2dfe"
      },
      "cell_type": "markdown",
      "source": "**Final Dataset prepration for apply machine learning models**"
    },
    {
      "metadata": {
        "trusted": true,
        "_uuid": "b39d7f06951c3e2ee2b597161e925fe2e396d7d4"
      },
      "cell_type": "code",
      "source": "#Encode catogrical target variable 'Series' into numerical value so that it can be \n#plugged into Scikit learn ML libraries\n\nmapper = {'Iris-setosa' : 0,\n          'Iris-virginica' : 1,\n          'Iris-versicolor' :2\n          }\n\ndf['Species'] = df['Species'].map(mapper)",
      "execution_count": 11,
      "outputs": []
    },
    {
      "metadata": {
        "trusted": true,
        "_uuid": "2364eedfa0b093d3a601006ab7cb81fba635bbfa"
      },
      "cell_type": "code",
      "source": "df.head()",
      "execution_count": 12,
      "outputs": [
        {
          "output_type": "execute_result",
          "execution_count": 12,
          "data": {
            "text/plain": "   SepalLengthCm  SepalWidthCm  PetalLengthCm  PetalWidthCm  Species\n0            5.1           3.5            1.4           0.2        0\n1            4.9           3.0            1.4           0.2        0\n2            4.7           3.2            1.3           0.2        0\n3            4.6           3.1            1.5           0.2        0\n4            5.0           3.6            1.4           0.2        0",
            "text/html": "<div>\n<style scoped>\n    .dataframe tbody tr th:only-of-type {\n        vertical-align: middle;\n    }\n\n    .dataframe tbody tr th {\n        vertical-align: top;\n    }\n\n    .dataframe thead th {\n        text-align: right;\n    }\n</style>\n<table border=\"1\" class=\"dataframe\">\n  <thead>\n    <tr style=\"text-align: right;\">\n      <th></th>\n      <th>SepalLengthCm</th>\n      <th>SepalWidthCm</th>\n      <th>PetalLengthCm</th>\n      <th>PetalWidthCm</th>\n      <th>Species</th>\n    </tr>\n  </thead>\n  <tbody>\n    <tr>\n      <th>0</th>\n      <td>5.1</td>\n      <td>3.5</td>\n      <td>1.4</td>\n      <td>0.2</td>\n      <td>0</td>\n    </tr>\n    <tr>\n      <th>1</th>\n      <td>4.9</td>\n      <td>3.0</td>\n      <td>1.4</td>\n      <td>0.2</td>\n      <td>0</td>\n    </tr>\n    <tr>\n      <th>2</th>\n      <td>4.7</td>\n      <td>3.2</td>\n      <td>1.3</td>\n      <td>0.2</td>\n      <td>0</td>\n    </tr>\n    <tr>\n      <th>3</th>\n      <td>4.6</td>\n      <td>3.1</td>\n      <td>1.5</td>\n      <td>0.2</td>\n      <td>0</td>\n    </tr>\n    <tr>\n      <th>4</th>\n      <td>5.0</td>\n      <td>3.6</td>\n      <td>1.4</td>\n      <td>0.2</td>\n      <td>0</td>\n    </tr>\n  </tbody>\n</table>\n</div>"
          },
          "metadata": {}
        }
      ]
    },
    {
      "metadata": {
        "trusted": true,
        "_uuid": "c618274a7b4b4a9c5d15cd8d17343a92021e20f2"
      },
      "cell_type": "code",
      "source": "df.tail()",
      "execution_count": 13,
      "outputs": [
        {
          "output_type": "execute_result",
          "execution_count": 13,
          "data": {
            "text/plain": "     SepalLengthCm  SepalWidthCm  PetalLengthCm  PetalWidthCm  Species\n145            6.7           3.0            5.2           2.3        1\n146            6.3           2.5            5.0           1.9        1\n147            6.5           3.0            5.2           2.0        1\n148            6.2           3.4            5.4           2.3        1\n149            5.9           3.0            5.1           1.8        1",
            "text/html": "<div>\n<style scoped>\n    .dataframe tbody tr th:only-of-type {\n        vertical-align: middle;\n    }\n\n    .dataframe tbody tr th {\n        vertical-align: top;\n    }\n\n    .dataframe thead th {\n        text-align: right;\n    }\n</style>\n<table border=\"1\" class=\"dataframe\">\n  <thead>\n    <tr style=\"text-align: right;\">\n      <th></th>\n      <th>SepalLengthCm</th>\n      <th>SepalWidthCm</th>\n      <th>PetalLengthCm</th>\n      <th>PetalWidthCm</th>\n      <th>Species</th>\n    </tr>\n  </thead>\n  <tbody>\n    <tr>\n      <th>145</th>\n      <td>6.7</td>\n      <td>3.0</td>\n      <td>5.2</td>\n      <td>2.3</td>\n      <td>1</td>\n    </tr>\n    <tr>\n      <th>146</th>\n      <td>6.3</td>\n      <td>2.5</td>\n      <td>5.0</td>\n      <td>1.9</td>\n      <td>1</td>\n    </tr>\n    <tr>\n      <th>147</th>\n      <td>6.5</td>\n      <td>3.0</td>\n      <td>5.2</td>\n      <td>2.0</td>\n      <td>1</td>\n    </tr>\n    <tr>\n      <th>148</th>\n      <td>6.2</td>\n      <td>3.4</td>\n      <td>5.4</td>\n      <td>2.3</td>\n      <td>1</td>\n    </tr>\n    <tr>\n      <th>149</th>\n      <td>5.9</td>\n      <td>3.0</td>\n      <td>5.1</td>\n      <td>1.8</td>\n      <td>1</td>\n    </tr>\n  </tbody>\n</table>\n</div>"
          },
          "metadata": {}
        }
      ]
    },
    {
      "metadata": {
        "trusted": true,
        "_uuid": "2272c21a3ef604e9772421d8d1de40eb6cef7a8f"
      },
      "cell_type": "code",
      "source": "from sklearn.model_selection import train_test_split\nfrom sklearn.preprocessing import StandardScaler\n\n#Prepare data for training\nX = df.iloc[:,:-1].values\ny = df.iloc[:,-1].values\n\n#Split data into train and test set\nX_train, X_test, y_train, y_test = train_test_split(X, y, test_size = 0.25, random_state = 0)\n\n#Data Scaling\nsc = StandardScaler()\nX_train = sc.fit_transform(X_train)\nX_test = sc.transform(X_test)",
      "execution_count": 14,
      "outputs": []
    },
    {
      "metadata": {
        "trusted": true,
        "_uuid": "a35497907094c6c8860fe86574ba55cd412151f4"
      },
      "cell_type": "code",
      "source": "print(X_train.shape)\nprint(y_train.shape)",
      "execution_count": 15,
      "outputs": [
        {
          "output_type": "stream",
          "text": "(112, 4)\n(112,)\n",
          "name": "stdout"
        }
      ]
    },
    {
      "metadata": {
        "_uuid": "436939d59562bb23a6ace3de14112ba8267c8668"
      },
      "cell_type": "markdown",
      "source": "**Appliying Machine learning Algorithms**"
    },
    {
      "metadata": {
        "trusted": true,
        "_uuid": "d013b8bb9b4e26de6909612532a7ce81276af3c8"
      },
      "cell_type": "code",
      "source": "#Importing ML libraries\nfrom sklearn.ensemble import RandomForestClassifier\nfrom sklearn.metrics import confusion_matrix, mean_squared_error, accuracy_score, classification_report\nfrom sklearn.model_selection import cross_val_score\n\n#Training\nclassifier = RandomForestClassifier(n_estimators = 10, criterion = 'entropy', random_state = 0)\nclassifier.fit(X_train,y_train)\n\n#Prediction\ny_pred = classifier.predict(X_test)",
      "execution_count": 16,
      "outputs": []
    },
    {
      "metadata": {
        "trusted": true,
        "_uuid": "f9d37288579573ea091068a3864b98e3b385219a"
      },
      "cell_type": "code",
      "source": "print(\"Accuracy on Training Set: \", accuracy_score(y_train, classifier.predict(X_train)))\nprint(\"Classification Report on Training Set: \\n\", classification_report(y_train, classifier.predict(X_train)))\nprint(\"Confusion Matrix on Training Set: \\n\", confusion_matrix(y_train, classifier.predict(X_train)))\nprint(\"Average Accuracy on Training Set: \\n\", np.mean(cross_val_score(classifier, X_train, y_train, cv=10, scoring='accuracy')))\n",
      "execution_count": 17,
      "outputs": [
        {
          "output_type": "stream",
          "text": "Accuracy on Training Set:  1.0\nClassification Report on Training Set: \n               precision    recall  f1-score   support\n\n           0       1.00      1.00      1.00        37\n           1       1.00      1.00      1.00        41\n           2       1.00      1.00      1.00        34\n\n   micro avg       1.00      1.00      1.00       112\n   macro avg       1.00      1.00      1.00       112\nweighted avg       1.00      1.00      1.00       112\n\nConfusion Matrix on Training Set: \n [[37  0  0]\n [ 0 41  0]\n [ 0  0 34]]\nAverage Accuracy on Training Set: \n 0.9273076923076923\n",
          "name": "stdout"
        }
      ]
    },
    {
      "metadata": {
        "trusted": true,
        "_uuid": "43a54deb1b8a1c29a74c5eaaa6343a1c603ca5da"
      },
      "cell_type": "code",
      "source": "print(\"Accuracy on Test Set\", accuracy_score(y_test, classifier.predict(X_test)))\nprint(\"Classification Report on Test Set: \", classification_report(y_test, classifier.predict(X_test)))\nprint(\"Confusion Matrix on Test Set: \",confusion_matrix(y_test, classifier.predict(X_test)))\nprint(\"Average Accuracy on Test Set: \\n\", np.mean(cross_val_score(classifier, X_test, y_test, cv=10, scoring='accuracy')))\n",
      "execution_count": 18,
      "outputs": [
        {
          "output_type": "stream",
          "text": "Accuracy on Test Set 0.9736842105263158\nClassification Report on Test Set:                precision    recall  f1-score   support\n\n           0       1.00      1.00      1.00        13\n           1       0.90      1.00      0.95         9\n           2       1.00      0.94      0.97        16\n\n   micro avg       0.97      0.97      0.97        38\n   macro avg       0.97      0.98      0.97        38\nweighted avg       0.98      0.97      0.97        38\n\nConfusion Matrix on Test Set:  [[13  0  0]\n [ 0  9  0]\n [ 0  1 15]]\nAverage Accuracy on Test Set: \n 0.95\n",
          "name": "stdout"
        }
      ]
    },
    {
      "metadata": {
        "trusted": false,
        "_uuid": "d4125d717efbdb8061fe2679a03318880bdbe37f"
      },
      "cell_type": "code",
      "source": "",
      "execution_count": null,
      "outputs": []
    },
    {
      "metadata": {
        "trusted": false,
        "_uuid": "d634c03008fbd93b4d0c07a0122eef95d43b09dd"
      },
      "cell_type": "code",
      "source": "",
      "execution_count": null,
      "outputs": []
    }
  ],
  "metadata": {
    "kernelspec": {
      "display_name": "Python 3",
      "language": "python",
      "name": "python3"
    },
    "language_info": {
      "codemirror_mode": {
        "name": "ipython",
        "version": 3
      },
      "file_extension": ".py",
      "mimetype": "text/x-python",
      "name": "python",
      "nbconvert_exporter": "python",
      "pygments_lexer": "ipython3",
      "version": "3.6.6"
    }
  },
  "nbformat": 4,
  "nbformat_minor": 1
}